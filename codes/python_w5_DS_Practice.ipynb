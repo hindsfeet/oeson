{
 "cells": [
  {
   "cell_type": "markdown",
   "metadata": {
    "id": "vo3Cqc085w4a"
   },
   "source": [
    "# Basic\n",
    "\n",
    "- Question 1: Implement a breadth-first search algorithm for a graph represented as an adjacency list.\n",
    "- Question 2: Write a function to find the longest common subsequence of two strings using dynamic programming.\n",
    "- Question 3: Implement a depth-first search algorithm to detect cycles in a directed graph.\n",
    "- Question 4: Given a list of numbers, write a function to find the second largest number.\n",
    "- Question 5: Given a string, write a function to check if it's a palindrome using a queue.\n"
   ]
  },
  {
   "cell_type": "markdown",
   "metadata": {},
   "source": [
    "Question 1: Implement a breadth-first search algorithm for a graph represented as an adjacency list."
   ]
  },
  {
   "cell_type": "code",
   "execution_count": 5,
   "metadata": {},
   "outputs": [
    {
     "name": "stdout",
     "output_type": "stream",
     "text": [
      "['A', 'B', 'C', 'D', 'E', 'F']\n"
     ]
    }
   ],
   "source": [
    "from collections import deque\n",
    "\n",
    "def bfs(graph, start):\n",
    "    # Initialize a queue with the starting node\n",
    "    queue = deque([start])\n",
    "    # Set to keep track of visited nodes\n",
    "    visited = set([start])\n",
    "    # List to store the order of traversal\n",
    "    traversal_order = []\n",
    "\n",
    "    while queue:\n",
    "        # Dequeue a node from the front of the queue\n",
    "        node = queue.popleft()\n",
    "        traversal_order.append(node)\n",
    "\n",
    "        # Iterate over all the adjacent nodes\n",
    "        for neighbor in graph[node]:\n",
    "            if neighbor not in visited:\n",
    "                # Mark the neighbor as visited and enqueue it\n",
    "                visited.add(neighbor)\n",
    "                queue.append(neighbor)\n",
    "\n",
    "    return traversal_order\n",
    "\n",
    "# Example usage:\n",
    "graph = {\n",
    "    'A': ['B', 'C'],\n",
    "    'B': ['A', 'D', 'E'],\n",
    "    'C': ['A', 'F'],\n",
    "    'D': ['B'],\n",
    "    'E': ['B', 'F'],\n",
    "    'F': ['C', 'E']\n",
    "}\n",
    "\n",
    "start_node = 'A'\n",
    "print(bfs(graph, start_node))"
   ]
  },
  {
   "cell_type": "markdown",
   "metadata": {},
   "source": [
    "Question 2: Write a function to find the longest common subsequence of two strings using dynamic programming."
   ]
  },
  {
   "cell_type": "code",
   "execution_count": 9,
   "metadata": {},
   "outputs": [
    {
     "name": "stdout",
     "output_type": "stream",
     "text": [
      "Longest Common Subsequence: GTAB\n"
     ]
    }
   ],
   "source": [
    "# import pandas as pd\n",
    "\n",
    "# def fillup(str1, str2):\n",
    "#     df = pd.DataFrame(0, columns=list(str1), index=list(str2))\n",
    "#     print(df)\n",
    "#     for i, ch in enumerate(str2):\n",
    "#         j = str1.find(ch)\n",
    "#         print(f'ch: {ch} i: {i}, j: {j}') \n",
    "#         if (j < 0):\n",
    "#             continue\n",
    "#         df.iloc[i,j] = 1\n",
    "#     print(df)\n",
    "#     return df\n",
    "\n",
    "# def getDiag(data):\n",
    "#     i, j = data.shape\n",
    "#     print(f'i: {i}, j: {j}')\n",
    "#     # for index, row in enumerate(data):\n",
    "#     #     if 1 in row:\n",
    "#     #         print(row[index])\n",
    "\n",
    "    \n",
    "# str1 = 'abcde'\n",
    "# str2 = 'debfgc'\n",
    "\n",
    "# df = fillup(str1.lower(), str2.lower())\n",
    "# getDiag(df)\n",
    "\n",
    "def longest_common_subsequence(str1, str2):\n",
    "    m, n = len(str1), len(str2)\n",
    "    # Create a 2D array to store lengths of longest common subsequence.\n",
    "    dp = [[0] * (n + 1) for _ in range(m + 1)]\n",
    "\n",
    "    # Build the dp array from bottom up.\n",
    "    for i in range(1, m + 1):\n",
    "        for j in range(1, n + 1):\n",
    "            if str1[i - 1] == str2[j - 1]:\n",
    "                dp[i][j] = dp[i - 1][j - 1] + 1\n",
    "            else:\n",
    "                dp[i][j] = max(dp[i - 1][j], dp[i][j - 1])\n",
    "\n",
    "    # Reconstruct the longest common subsequence from the dp array.\n",
    "    lcs = []\n",
    "    i, j = m, n\n",
    "    while i > 0 and j > 0:\n",
    "        if str1[i - 1] == str2[j - 1]:\n",
    "            lcs.append(str1[i - 1])\n",
    "            i -= 1\n",
    "            j -= 1\n",
    "        elif dp[i - 1][j] > dp[i][j - 1]:\n",
    "            i -= 1\n",
    "        else:\n",
    "            j -= 1\n",
    "\n",
    "    # The lcs list contains the LCS in reverse order.\n",
    "    return ''.join(reversed(lcs))\n",
    "\n",
    "# Example usage:\n",
    "str1 = \"AGGTAB\"\n",
    "str2 = \"GXTXAYB\"\n",
    "print(\"Longest Common Subsequence:\", longest_common_subsequence(str1, str2))\n"
   ]
  },
  {
   "cell_type": "code",
   "execution_count": null,
   "metadata": {},
   "outputs": [],
   "source": [
    "Question 3: Implement a depth-first search algorithm to detect cycles in a directed graph."
   ]
  },
  {
   "cell_type": "code",
   "execution_count": 19,
   "metadata": {},
   "outputs": [
    {
     "name": "stdout",
     "output_type": "stream",
     "text": [
      "True\n"
     ]
    }
   ],
   "source": [
    "def detect_cycle(graph):\n",
    "    def dfs(node):\n",
    "        if node in visiting:\n",
    "            return True\n",
    "        if node in visited:\n",
    "            return False\n",
    "        \n",
    "        visiting.add(node)\n",
    "        for neighbor in graph[node]:\n",
    "            if dfs(neighbor):\n",
    "                return True\n",
    "        visiting.remove(node)\n",
    "        visited.add(node)\n",
    "        return False\n",
    "\n",
    "    visited = set()\n",
    "    visiting = set()\n",
    "    \n",
    "    for node in graph:\n",
    "        if dfs(node):\n",
    "            return True\n",
    "    return False\n",
    "\n",
    "# Example usage:\n",
    "graph = {\n",
    "    'A': ['B'],\n",
    "    'B': ['C'],\n",
    "    'C': ['A'],\n",
    "    'D': ['E'],\n",
    "    'E': []\n",
    "}\n",
    "\n",
    "print(detect_cycle(graph))  # Output: True"
   ]
  },
  {
   "cell_type": "markdown",
   "metadata": {},
   "source": [
    "Question 4: Given a list of numbers, write a function to find the second largest number."
   ]
  },
  {
   "cell_type": "code",
   "execution_count": 37,
   "metadata": {},
   "outputs": [
    {
     "name": "stdout",
     "output_type": "stream",
     "text": [
      "second largest number: 230\n"
     ]
    }
   ],
   "source": [
    "my_list = [34,65,76,23,769,230,54]\n",
    "my_list.remove(max(my_list))\n",
    "print(f'second largest number: {max(my_list)}')"
   ]
  },
  {
   "cell_type": "raw",
   "metadata": {},
   "source": [
    "Question 5: Given a string, write a function to check if it's a palindrome using a queue."
   ]
  },
  {
   "cell_type": "code",
   "execution_count": 39,
   "metadata": {},
   "outputs": [
    {
     "name": "stdout",
     "output_type": "stream",
     "text": [
      "True\n",
      "False\n"
     ]
    }
   ],
   "source": [
    "from collections import deque\n",
    "\n",
    "def is_palindrome(s):\n",
    "    # Normalize the string: remove non-alphanumeric characters and convert to lowercase\n",
    "    normalized_str = ''.join(char.lower() for char in s if char.isalnum())\n",
    "    \n",
    "    # Initialize a deque (double-ended queue)\n",
    "    queue = deque(normalized_str)\n",
    "    \n",
    "    # Check for palindrome by comparing characters from both ends\n",
    "    while len(queue) > 1:\n",
    "        if queue.popleft() != queue.pop():\n",
    "            return False\n",
    "    return True\n",
    "\n",
    "# Example usage\n",
    "print(is_palindrome(\"A man, a plan, a canal, Panama\"))  # Output: True\n",
    "print(is_palindrome(\"Hello, World!\"))                   # Output: False"
   ]
  },
  {
   "cell_type": "markdown",
   "metadata": {
    "id": "j9sZdqNu6q72"
   },
   "source": [
    "#Extra Questions on Basic Level\n",
    "\n",
    "- \"1. Implement a stack using a Python list and demonstrate its push and pop operations.\",\n",
    "- \"2. Create a queue using a Python list and demonstrate enqueue and dequeue operations.\",\n",
    "-  \"3. Implement a linked list (singly linked) with methods for insertion, deletion, and traversal.\",\n",
    "- \"4. Create a binary search tree (BST) and implement insertion and search functions.\",\n",
    "- \"5. Write a function to check if a given string is a palindrome using a stack or queue.\",\n",
    "- \"6. Implement a breadth-first search (BFS) algorithm to traverse a graph represented as an adjacency list.\",\n",
    "- \"7. Implement a depth-first search (DFS) algorithm to traverse a graph represented as an adjacency matrix.\",\n",
    "- \"8. Given a list of numbers, find the kth largest element using a heap or priority queue.\",\n",
    "- \"9. Implement a hash table (or dictionary) and demonstrate insertion, deletion, and search operations.\",\n",
    "- \"10. Write a function to detect cycles in a linked list.\""
   ]
  },
  {
   "cell_type": "markdown",
   "metadata": {},
   "source": [
    "1. Implement a stack using a Python list and demonstrate its push and pop operations."
   ]
  },
  {
   "cell_type": "code",
   "execution_count": 55,
   "metadata": {},
   "outputs": [
    {
     "data": {
      "text/plain": [
       "[2, 3, 5, 7, 8, 9, 12, 34, 565, 765]"
      ]
     },
     "execution_count": 55,
     "metadata": {},
     "output_type": "execute_result"
    }
   ],
   "source": [
    "my_list = [2,3,5,7,8,9,12,34,565,765,1290]\n",
    "my_list.pop()\n",
    "my_list.append(81) # use append to act as a push\n",
    "my_list\n",
    "my_list.pop()\n",
    "my_list"
   ]
  },
  {
   "cell_type": "code",
   "execution_count": 57,
   "metadata": {},
   "outputs": [
    {
     "name": "stdout",
     "output_type": "stream",
     "text": [
      "Pushed 10 to stack\n",
      "Pushed 20 to stack\n",
      "Pushed 30 to stack\n",
      "Popped 30 from stack\n",
      "Popped 20 from stack\n",
      "Popped 10 from stack\n",
      "Stack is empty, cannot pop\n"
     ]
    }
   ],
   "source": [
    "class Stack:\n",
    "    def __init__(self):\n",
    "        self.stack = []\n",
    "\n",
    "    def push(self, item):\n",
    "        self.stack.append(item)\n",
    "        print(f\"Pushed {item} to stack\")\n",
    "\n",
    "    def pop(self):\n",
    "        if not self.is_empty():\n",
    "            item = self.stack.pop()\n",
    "            print(f\"Popped {item} from stack\")\n",
    "            return item\n",
    "        else:\n",
    "            print(\"Stack is empty, cannot pop\")\n",
    "            return None\n",
    "\n",
    "    def is_empty(self):\n",
    "        return len(self.stack) == 0\n",
    "\n",
    "    def peek(self):\n",
    "        if not self.is_empty():\n",
    "            return self.stack[-1]\n",
    "        else:\n",
    "            print(\"Stack is empty, nothing to peek\")\n",
    "            return None\n",
    "\n",
    "    def size(self):\n",
    "        return len(self.stack)\n",
    "\n",
    "# Demonstration of push and pop operations\n",
    "stack = Stack()\n",
    "\n",
    "# Push operations\n",
    "stack.push(10)\n",
    "stack.push(20)\n",
    "stack.push(30)\n",
    "\n",
    "# Pop operations\n",
    "stack.pop()\n",
    "stack.pop()\n",
    "stack.pop()\n",
    "stack.pop()  # Attempt to pop from an empty stack\n"
   ]
  },
  {
   "cell_type": "markdown",
   "metadata": {
    "id": "z6J_nWW65yle"
   },
   "source": [
    "2. Create a queue using a Python list and demonstrate enqueue and dequeue operations."
   ]
  },
  {
   "cell_type": "code",
   "execution_count": 59,
   "metadata": {
    "id": "zwnHOvxV69sA"
   },
   "outputs": [
    {
     "name": "stdout",
     "output_type": "stream",
     "text": [
      "Enqueued: 10\n",
      "Enqueued: 20\n",
      "Enqueued: 30\n",
      "Dequeued: 10\n",
      "Dequeued: 20\n",
      "Queue size: 1\n",
      "Front item: 30\n"
     ]
    }
   ],
   "source": [
    "class Queue:\n",
    "    def __init__(self):\n",
    "        self.items = []\n",
    "\n",
    "    def is_empty(self):\n",
    "        return len(self.items) == 0\n",
    "\n",
    "    def enqueue(self, item):\n",
    "        self.items.append(item)\n",
    "        print(f\"Enqueued: {item}\")\n",
    "\n",
    "    def dequeue(self):\n",
    "        if self.is_empty():\n",
    "            print(\"Queue is empty, cannot dequeue.\")\n",
    "            return None\n",
    "        return self.items.pop(0)\n",
    "\n",
    "    def size(self):\n",
    "        return len(self.items)\n",
    "\n",
    "    def peek(self):\n",
    "        if self.is_empty():\n",
    "            print(\"Queue is empty, nothing to peek.\")\n",
    "            return None\n",
    "        return self.items[0]\n",
    "\n",
    "# Demonstration of enqueue and dequeue operations\n",
    "queue = Queue()\n",
    "\n",
    "# Enqueue operations\n",
    "queue.enqueue(10)\n",
    "queue.enqueue(20)\n",
    "queue.enqueue(30)\n",
    "\n",
    "# Dequeue operations\n",
    "print(f\"Dequeued: {queue.dequeue()}\")\n",
    "print(f\"Dequeued: {queue.dequeue()}\")\n",
    "\n",
    "# Check the size of the queue\n",
    "print(f\"Queue size: {queue.size()}\")\n",
    "\n",
    "# Peek at the front of the queue\n",
    "print(f\"Front item: {queue.peek()}\")"
   ]
  },
  {
   "cell_type": "markdown",
   "metadata": {},
   "source": [
    "3. Implement a linked list (singly linked) with methods for insertion, deletion, and traversal."
   ]
  },
  {
   "cell_type": "code",
   "execution_count": 61,
   "metadata": {},
   "outputs": [
    {
     "name": "stdout",
     "output_type": "stream",
     "text": [
      "1 -> 2 -> 3 -> None\n",
      "1 -> 3 -> None\n"
     ]
    }
   ],
   "source": [
    "class Node:\n",
    "    def __init__(self, data):\n",
    "        self.data = data\n",
    "        self.next = None\n",
    "\n",
    "class SinglyLinkedList:\n",
    "    def __init__(self):\n",
    "        self.head = None\n",
    "\n",
    "    def insert(self, data):\n",
    "        new_node = Node(data)\n",
    "        if not self.head:\n",
    "            self.head = new_node\n",
    "        else:\n",
    "            current = self.head\n",
    "            while current.next:\n",
    "                current = current.next\n",
    "            current.next = new_node\n",
    "\n",
    "    def delete(self, key):\n",
    "        current = self.head\n",
    "        previous = None\n",
    "\n",
    "        if current and current.data == key:\n",
    "            self.head = current.next\n",
    "            current = None\n",
    "            return\n",
    "\n",
    "        while current and current.data != key:\n",
    "            previous = current\n",
    "            current = current.next\n",
    "\n",
    "        if current is None:\n",
    "            return\n",
    "\n",
    "        previous.next = current.next\n",
    "        current = None\n",
    "\n",
    "    def traverse(self):\n",
    "        current = self.head\n",
    "        while current:\n",
    "            print(current.data, end=\" -> \")\n",
    "            current = current.next\n",
    "        print(\"None\")\n",
    "\n",
    "# Example usage:\n",
    "if __name__ == \"__main__\":\n",
    "    sll = SinglyLinkedList()\n",
    "    sll.insert(1)\n",
    "    sll.insert(2)\n",
    "    sll.insert(3)\n",
    "    sll.traverse()  # Output: 1 -> 2 -> 3 -> None\n",
    "    sll.delete(2)\n",
    "    sll.traverse()  # Output: 1 -> 3 -> None"
   ]
  },
  {
   "cell_type": "code",
   "execution_count": null,
   "metadata": {},
   "outputs": [],
   "source": [
    "4. Create a binary search tree (BST) and implement insertion and search functions."
   ]
  },
  {
   "cell_type": "code",
   "execution_count": 67,
   "metadata": {},
   "outputs": [
    {
     "name": "stdout",
     "output_type": "stream",
     "text": [
      "Found: 5\n"
     ]
    }
   ],
   "source": [
    "class TreeNode:\n",
    "    def __init__(self, key):\n",
    "        self.key = key\n",
    "        self.left = None\n",
    "        self.right = None\n",
    "\n",
    "class BinarySearchTree:\n",
    "    def __init__(self):\n",
    "        self.root = None\n",
    "\n",
    "    def insert(self, key):\n",
    "        if self.root is None:\n",
    "            self.root = TreeNode(key)\n",
    "        else:\n",
    "            self._insert(self.root, key)\n",
    "\n",
    "    def _insert(self, node, key):\n",
    "        if key < node.key:\n",
    "            if node.left is None:\n",
    "                node.left = TreeNode(key)\n",
    "            else:\n",
    "                self._insert(node.left, key)\n",
    "        else:\n",
    "            if node.right is None:\n",
    "                node.right = TreeNode(key)\n",
    "            else:\n",
    "                self._insert(node.right, key)\n",
    "\n",
    "    def search(self, key):\n",
    "        return self._search(self.root, key)\n",
    "\n",
    "    def _search(self, node, key):\n",
    "        if node is None or node.key == key:\n",
    "            return node\n",
    "        if key < node.key:\n",
    "            return self._search(node.left, key)\n",
    "        else:\n",
    "            return self._search(node.right, key)\n",
    "\n",
    "# Example usage:\n",
    "bst = BinarySearchTree()\n",
    "bst.insert(10)\n",
    "bst.insert(5)\n",
    "bst.insert(15)\n",
    "\n",
    "result = bst.search(5)\n",
    "if result:\n",
    "    print(f\"Found: {result.key}\")\n",
    "else:\n",
    "    print(\"Not found\")"
   ]
  },
  {
   "cell_type": "markdown",
   "metadata": {},
   "source": [
    "5. Write a function to check if a given string is a palindrome using a stack or queue."
   ]
  },
  {
   "cell_type": "code",
   "execution_count": null,
   "metadata": {},
   "outputs": [],
   "source": [
    "# answer using a queue is similar with question 5\n",
    "\n",
    "from collections import deque\n",
    "\n",
    "def is_palindrome(s):\n",
    "    # Normalize the string: remove non-alphanumeric characters and convert to lowercase\n",
    "    normalized_str = ''.join(char.lower() for char in s if char.isalnum())\n",
    "    \n",
    "    # Initialize a deque (double-ended queue)\n",
    "    queue = deque(normalized_str)\n",
    "    \n",
    "    # Check for palindrome by comparing characters from both ends\n",
    "    while len(queue) > 1:\n",
    "        if queue.popleft() != queue.pop():\n",
    "            return False\n",
    "    return True\n",
    "\n",
    "# Example usage\n",
    "print(is_palindrome(\"A man, a plan, a canal, Panama\"))  # Output: True\n",
    "print(is_palindrome(\"Hello, World!\"))                   # Output: False"
   ]
  },
  {
   "cell_type": "markdown",
   "metadata": {},
   "source": [
    "6. Implement a breadth-first search (BFS) algorithm to traverse a graph represented as an adjacency list."
   ]
  },
  {
   "cell_type": "code",
   "execution_count": 69,
   "metadata": {},
   "outputs": [
    {
     "name": "stdout",
     "output_type": "stream",
     "text": [
      "['A', 'B', 'C', 'D', 'E', 'F']\n"
     ]
    }
   ],
   "source": [
    "# answer is similar with question 1\n",
    "\n",
    "from collections import deque\n",
    "\n",
    "def bfs(graph, start):\n",
    "    # Initialize a queue with the starting node\n",
    "    queue = deque([start])\n",
    "    # Set to keep track of visited nodes\n",
    "    visited = set([start])\n",
    "    # List to store the order of traversal\n",
    "    traversal_order = []\n",
    "\n",
    "    while queue:\n",
    "        # Dequeue a node from the front of the queue\n",
    "        node = queue.popleft()\n",
    "        traversal_order.append(node)\n",
    "\n",
    "        # Iterate over all the adjacent nodes\n",
    "        for neighbor in graph[node]:\n",
    "            if neighbor not in visited:\n",
    "                # Mark the neighbor as visited and enqueue it\n",
    "                visited.add(neighbor)\n",
    "                queue.append(neighbor)\n",
    "\n",
    "    return traversal_order\n",
    "\n",
    "# Example usage:\n",
    "graph = {\n",
    "    'A': ['B', 'C'],\n",
    "    'B': ['A', 'D', 'E'],\n",
    "    'C': ['A', 'F'],\n",
    "    'D': ['B'],\n",
    "    'E': ['B', 'F'],\n",
    "    'F': ['C', 'E']\n",
    "}\n",
    "\n",
    "start_node = 'A'\n",
    "print(bfs(graph, start_node))"
   ]
  },
  {
   "cell_type": "markdown",
   "metadata": {},
   "source": [
    "7. Implement a depth-first search (DFS) algorithm to traverse a graph represented as an adjacency matrix"
   ]
  },
  {
   "cell_type": "code",
   "execution_count": 71,
   "metadata": {},
   "outputs": [
    {
     "name": "stdout",
     "output_type": "stream",
     "text": [
      "0 1 3 2 4 "
     ]
    }
   ],
   "source": [
    "def dfs(graph, start, visited=None):\n",
    "    if visited is None:\n",
    "        visited = set()\n",
    "    visited.add(start)\n",
    "    \n",
    "    print(start, end=' ')  # Print the node as it's visited\n",
    "    \n",
    "    for neighbor, is_connected in enumerate(graph[start]):\n",
    "        if is_connected and neighbor not in visited:\n",
    "            dfs(graph, neighbor, visited)\n",
    "\n",
    "# Example usage:\n",
    "# Adjacency matrix representation of a graph\n",
    "graph = [\n",
    "    [0, 1, 1, 0, 0],\n",
    "    [1, 0, 0, 1, 0],\n",
    "    [1, 0, 0, 1, 1],\n",
    "    [0, 1, 1, 0, 1],\n",
    "    [0, 0, 1, 1, 0]\n",
    "]\n",
    "\n",
    "# Start DFS traversal from node 0\n",
    "dfs(graph, 0)"
   ]
  },
  {
   "cell_type": "code",
   "execution_count": null,
   "metadata": {},
   "outputs": [],
   "source": [
    "8. Given a list of numbers, find the kth largest element using a heap or priority queue."
   ]
  },
  {
   "cell_type": "code",
   "execution_count": 77,
   "metadata": {},
   "outputs": [
    {
     "name": "stdout",
     "output_type": "stream",
     "text": [
      "5\n"
     ]
    }
   ],
   "source": [
    "import heapq\n",
    "\n",
    "def find_kth_largest(nums, k):\n",
    "    # Create a min-heap with the first k elements\n",
    "    min_heap = nums[:k]\n",
    "    heapq.heapify(min_heap)\n",
    "    \n",
    "    # Iterate through the remaining elements\n",
    "    for num in nums[k:]:\n",
    "        if num > min_heap[0]:\n",
    "            heapq.heappushpop(min_heap, num)\n",
    "    \n",
    "    # The root of the heap is the k-th largest element\n",
    "    return min_heap[0]\n",
    "\n",
    "# Example usage\n",
    "nums = [3, 2, 1, 5, 6, 4]\n",
    "k = 2\n",
    "print(find_kth_largest(nums, k))  # Output: 5"
   ]
  },
  {
   "cell_type": "markdown",
   "metadata": {},
   "source": [
    "9. Implement a hash table (or dictionary) and demonstrate insertion, deletion, and search operations."
   ]
  },
  {
   "cell_type": "code",
   "execution_count": 79,
   "metadata": {},
   "outputs": [
    {
     "name": "stdout",
     "output_type": "stream",
     "text": [
      "Dictionary after insertion: {'name': 'Alice', 'age': 30, 'city': 'Auckland'}\n",
      "Dictionary after deletion: {'name': 'Alice', 'city': 'Auckland'}\n",
      "Found 'city': Auckland\n"
     ]
    }
   ],
   "source": [
    "# Initialize an empty dictionary\n",
    "my_dict = {}\n",
    "\n",
    "# Insertion\n",
    "my_dict['name'] = 'Alice'\n",
    "my_dict['age'] = 30\n",
    "my_dict['city'] = 'Auckland'\n",
    "\n",
    "print(\"Dictionary after insertion:\", my_dict)\n",
    "\n",
    "# Deletion\n",
    "del my_dict['age']\n",
    "\n",
    "print(\"Dictionary after deletion:\", my_dict)\n",
    "\n",
    "# Search\n",
    "key_to_search = 'city'\n",
    "if key_to_search in my_dict:\n",
    "    print(f\"Found '{key_to_search}':\", my_dict[key_to_search])\n",
    "else:\n",
    "    print(f\"'{key_to_search}' not found in the dictionary.\")"
   ]
  },
  {
   "cell_type": "code",
   "execution_count": null,
   "metadata": {},
   "outputs": [],
   "source": [
    "10. Write a function to detect cycles in a linked list."
   ]
  },
  {
   "cell_type": "code",
   "execution_count": 83,
   "metadata": {},
   "outputs": [
    {
     "name": "stdout",
     "output_type": "stream",
     "text": [
      "false\n"
     ]
    }
   ],
   "source": [
    "# Python program to detect loop\n",
    "# in the linked list using hashset\n",
    "\n",
    "class Node:\n",
    "    def __init__(self, x):\n",
    "        self.data = x\n",
    "        self.next = None\n",
    "\n",
    "# Function that returns true if there is a loop in linked\n",
    "# list else returns false.\n",
    "def detectLoop(head):\n",
    "    nodeSet = set()\n",
    "\n",
    "    # loop that runs till the head is None\n",
    "    while head is not None:\n",
    "\n",
    "        # If this node is already present\n",
    "        # in hashmap it means there is a cycle\n",
    "        # (Because you will be encountering the\n",
    "        # node for the second time).\n",
    "        if head in nodeSet:\n",
    "            return True\n",
    "\n",
    "        # If we are seeing the node for\n",
    "        # the first time, insert it in hash\n",
    "        nodeSet.add(head)\n",
    "\n",
    "        head = head.next\n",
    "    return False\n",
    "\n",
    "# Create a hard-coded linked list:\n",
    "# 10 -> 20 -> 30 -> 40 -> 50 -> 60 -> 70\n",
    "head = Node(10)\n",
    "head.next = Node(20)\n",
    "head.next.next = Node(30)\n",
    "head.next.next.next = Node(40)\n",
    "head.next.next.next.next = Node(50)\n",
    "head.next.next.next.next.next = Node(60)\n",
    "\n",
    "head.next.next.next.next = head\n",
    "\n",
    "if detectLoop(head):\n",
    "    print(\"true\")\n",
    "else:\n",
    "    print(\"false\")"
   ]
  },
  {
   "cell_type": "markdown",
   "metadata": {
    "id": "kSPy8_tr53HR"
   },
   "source": [
    "# Intermediate Level\n",
    "- Question 6: Implement a binary search algorithm to search for a specific element in a sorted list.\n",
    "- Question 7: Write a function to reverse a linked list.\n",
    "- Question 8: Implement a Trie data structure and use it for auto-completion suggestions.\n",
    "- Question 9: Implement a heap data structure and demonstrate heap sort.\n",
    "- Question 10: Write a function to find the kth largest element in an unsorted array using a min-heap.\n",
    "- Question 11: Given a binary tree, write a function to find its height.\n",
    "- Question 12: Implement a hash table (dictionary) to count the frequency of words in a given text file.\n",
    "- Question 13: Design a LRU (Least Recently Used) cache using a combination of a doubly linked list and a dictionary.\n",
    "- Question 14: Given two arrays, write a function to find the intersection of these arrays efficiently.\n",
    "- Question 15: Implement a stack using a list in Python. Include push, pop, peek and isEmpty operations."
   ]
  },
  {
   "cell_type": "markdown",
   "metadata": {},
   "source": [
    "6: Implement a binary search algorithm to search for a specific element in a sorted list"
   ]
  },
  {
   "cell_type": "code",
   "execution_count": 91,
   "metadata": {},
   "outputs": [
    {
     "name": "stdout",
     "output_type": "stream",
     "text": [
      "Element 7 found at index 3.\n"
     ]
    }
   ],
   "source": [
    "def binary_search(sorted_list, target):\n",
    "    left, right = 0, len(sorted_list) - 1\n",
    "    \n",
    "    while left <= right:\n",
    "        mid = (left + right) // 2\n",
    "        mid_value = sorted_list[mid]\n",
    "        \n",
    "        if mid_value == target:\n",
    "            return mid  # Target found, return its index\n",
    "        elif mid_value < target:\n",
    "            left = mid + 1  # Search in the right half\n",
    "        else:\n",
    "            right = mid - 1  # Search in the left half\n",
    "    \n",
    "    return -1  # Target not found\n",
    "\n",
    "# Example usage:\n",
    "sorted_list = [1, 3, 5, 7, 9, 11, 13, 15]\n",
    "target = 7\n",
    "result = binary_search(sorted_list, target)\n",
    "\n",
    "if result != -1:\n",
    "    print(f\"Element {target} found at index {result}.\")\n",
    "else:\n",
    "    print(f\"Element {target} not found in the list.\")"
   ]
  },
  {
   "cell_type": "code",
   "execution_count": null,
   "metadata": {},
   "outputs": [],
   "source": [
    "7: Write a function to reverse a linked list."
   ]
  },
  {
   "cell_type": "code",
   "execution_count": 93,
   "metadata": {},
   "outputs": [
    {
     "name": "stdout",
     "output_type": "stream",
     "text": [
      "Given Linked List\n",
      "85 15 4 20 \n",
      "Reversed Linked List\n",
      "20 4 15 85 "
     ]
    }
   ],
   "source": [
    "# Python program to reverse a linked list \n",
    "# Time Complexity : O(n) \n",
    "# Space Complexity : O(n) as 'next' \n",
    "#variable is getting created in each loop. \n",
    "\n",
    "# Node class \n",
    "\n",
    "\n",
    "class Node: \n",
    "\n",
    "\t# Constructor to initialize the node object \n",
    "\tdef __init__(self, data): \n",
    "\t\tself.data = data \n",
    "\t\tself.next = None\n",
    "\n",
    "\n",
    "class LinkedList: \n",
    "\n",
    "\t# Function to initialize head \n",
    "\tdef __init__(self): \n",
    "\t\tself.head = None\n",
    "\n",
    "\t# Function to reverse the linked list \n",
    "\tdef reverse(self): \n",
    "\t\tprev = None\n",
    "\t\tcurrent = self.head \n",
    "\t\twhile(current is not None): \n",
    "\t\t\tnext = current.next\n",
    "\t\t\tcurrent.next = prev \n",
    "\t\t\tprev = current \n",
    "\t\t\tcurrent = next\n",
    "\t\tself.head = prev \n",
    "\n",
    "\t# Function to insert a new node at the beginning \n",
    "\tdef push(self, new_data): \n",
    "\t\tnew_node = Node(new_data) \n",
    "\t\tnew_node.next = self.head \n",
    "\t\tself.head = new_node \n",
    "\n",
    "\t# Utility function to print the LinkedList \n",
    "\tdef printList(self): \n",
    "\t\ttemp = self.head \n",
    "\t\twhile(temp): \n",
    "\t\t\tprint (temp.data,end=\" \") \n",
    "\t\t\ttemp = temp.next\n",
    "\n",
    "\n",
    "# Driver program to test above functions \n",
    "llist = LinkedList() \n",
    "llist.push(20) \n",
    "llist.push(4) \n",
    "llist.push(15) \n",
    "llist.push(85) \n",
    "\n",
    "print (\"Given Linked List\") \n",
    "llist.printList() \n",
    "llist.reverse() \n",
    "print (\"\\nReversed Linked List\") \n",
    "llist.printList() "
   ]
  },
  {
   "cell_type": "code",
   "execution_count": null,
   "metadata": {},
   "outputs": [],
   "source": [
    "8: Implement a Tree data structure and use it for auto-completion suggestions"
   ]
  },
  {
   "cell_type": "code",
   "execution_count": 95,
   "metadata": {},
   "outputs": [
    {
     "name": "stdout",
     "output_type": "stream",
     "text": [
      "['hell', 'hello', 'heaven', 'heavy']\n",
      "['heaven', 'heavy']\n",
      "['hell', 'hello']\n"
     ]
    }
   ],
   "source": [
    "class TrieNode:\n",
    "    def __init__(self):\n",
    "        self.children = {}\n",
    "        self.is_end_of_word = False\n",
    "\n",
    "class Trie:\n",
    "    def __init__(self):\n",
    "        self.root = TrieNode()\n",
    "\n",
    "    def insert(self, word):\n",
    "        node = self.root\n",
    "        for char in word:\n",
    "            if char not in node.children:\n",
    "                node.children[char] = TrieNode()\n",
    "            node = node.children[char]\n",
    "        node.is_end_of_word = True\n",
    "\n",
    "    def search(self, word):\n",
    "        node = self.root\n",
    "        for char in word:\n",
    "            if char not in node.children:\n",
    "                return False\n",
    "            node = node.children[char]\n",
    "        return node.is_end_of_word\n",
    "\n",
    "    def _suggestions_rec(self, node, prefix):\n",
    "        suggestions = []\n",
    "        if node.is_end_of_word:\n",
    "            suggestions.append(prefix)\n",
    "        for char, next_node in node.children.items():\n",
    "            suggestions.extend(self._suggestions_rec(next_node, prefix + char))\n",
    "        return suggestions\n",
    "\n",
    "    def autocomplete(self, prefix):\n",
    "        node = self.root\n",
    "        for char in prefix:\n",
    "            if char not in node.children:\n",
    "                return []\n",
    "            node = node.children[char]\n",
    "        return self._suggestions_rec(node, prefix)\n",
    "\n",
    "# Example usage:\n",
    "trie = Trie()\n",
    "words = [\"hello\", \"hell\", \"heaven\", \"heavy\"]\n",
    "for word in words:\n",
    "    trie.insert(word)\n",
    "\n",
    "print(trie.autocomplete(\"he\"))  # Output: ['hello', 'hell', 'heaven', 'heavy']\n",
    "print(trie.autocomplete(\"hea\")) # Output: ['heaven', 'heavy']\n",
    "print(trie.autocomplete(\"hel\")) # Output: ['hello', 'hell']"
   ]
  },
  {
   "cell_type": "code",
   "execution_count": null,
   "metadata": {},
   "outputs": [],
   "source": [
    "9: Implement a heap data structure and demonstrate heap sort."
   ]
  },
  {
   "cell_type": "code",
   "execution_count": 99,
   "metadata": {},
   "outputs": [
    {
     "name": "stdout",
     "output_type": "stream",
     "text": [
      "Sorted array: [1, 1, 2, 3, 3, 4, 5, 5, 5, 6, 9]\n"
     ]
    }
   ],
   "source": [
    "class Heap:\n",
    "    def __init__(self):\n",
    "        self.heap = []\n",
    "\n",
    "    def insert(self, element):\n",
    "        self.heap.append(element)\n",
    "        self._heapify_up(len(self.heap) - 1)\n",
    "\n",
    "    def extract_max(self):\n",
    "        if len(self.heap) == 0:\n",
    "            return None\n",
    "        if len(self.heap) == 1:\n",
    "            return self.heap.pop()\n",
    "        root = self.heap[0]\n",
    "        self.heap[0] = self.heap.pop()\n",
    "        self._heapify_down(0)\n",
    "        return root\n",
    "\n",
    "    def _heapify_up(self, index):\n",
    "        parent_index = (index - 1) // 2\n",
    "        if index > 0 and self.heap[index] > self.heap[parent_index]:\n",
    "            self.heap[index], self.heap[parent_index] = self.heap[parent_index], self.heap[index]\n",
    "            self._heapify_up(parent_index)\n",
    "\n",
    "    def _heapify_down(self, index):\n",
    "        largest = index\n",
    "        left_child = 2 * index + 1\n",
    "        right_child = 2 * index + 2\n",
    "\n",
    "        if left_child < len(self.heap) and self.heap[left_child] > self.heap[largest]:\n",
    "            largest = left_child\n",
    "        if right_child < len(self.heap) and self.heap[right_child] > self.heap[largest]:\n",
    "            largest = right_child\n",
    "        if largest != index:\n",
    "            self.heap[index], self.heap[largest] = self.heap[largest], self.heap[index]\n",
    "            self._heapify_down(largest)\n",
    "\n",
    "def heap_sort(array):\n",
    "    heap = Heap()\n",
    "    for element in array:\n",
    "        heap.insert(element)\n",
    "    \n",
    "    sorted_array = []\n",
    "    while len(heap.heap) > 0:\n",
    "        sorted_array.append(heap.extract_max())\n",
    "    \n",
    "    return sorted_array[::-1]  # Reverse to get ascending order\n",
    "\n",
    "# Example usage\n",
    "if __name__ == \"__main__\":\n",
    "    array = [3, 1, 4, 1, 5, 9, 2, 6, 5, 3, 5]\n",
    "    sorted_array = heap_sort(array)\n",
    "    print(\"Sorted array:\", sorted_array)"
   ]
  },
  {
   "cell_type": "code",
   "execution_count": null,
   "metadata": {},
   "outputs": [],
   "source": [
    "10. Write a function to find the kth largest element in an unsorted array using a min-heap."
   ]
  },
  {
   "cell_type": "code",
   "execution_count": 103,
   "metadata": {},
   "outputs": [
    {
     "name": "stdout",
     "output_type": "stream",
     "text": [
      "4\n"
     ]
    }
   ],
   "source": [
    "# same as basic Question 8 with shortcut of heappushpop\n",
    "import heapq\n",
    "\n",
    "def find_kth_largest(nums, k):\n",
    "    # Create a min heap with the first k elements\n",
    "    min_heap = nums[:k]\n",
    "    heapq.heapify(min_heap)\n",
    "    \n",
    "    # Iterate through the remaining elements\n",
    "    for num in nums[k:]:\n",
    "        if num > min_heap[0]:\n",
    "            heapq.heappop(min_heap)\n",
    "            heapq.heappush(min_heap, num)\n",
    "            #heapq.heappushpop(min_heap, num)\n",
    "    \n",
    "    # The root of the heap is the k-th largest element\n",
    "    return min_heap[0]\n",
    "\n",
    "# Example usage:\n",
    "nums = [3, 2, 1, 5, 6, 4]\n",
    "k = 3\n",
    "print(find_kth_largest(nums, k))  # Output: 5"
   ]
  },
  {
   "cell_type": "code",
   "execution_count": null,
   "metadata": {},
   "outputs": [],
   "source": [
    "11: Given a binary tree, write a function to find its height."
   ]
  },
  {
   "cell_type": "code",
   "execution_count": 107,
   "metadata": {},
   "outputs": [
    {
     "name": "stdout",
     "output_type": "stream",
     "text": [
      "Height of the tree: 3\n"
     ]
    }
   ],
   "source": [
    "class TreeNode:\n",
    "    def __init__(self, value=0, left=None, right=None):\n",
    "        self.value = value\n",
    "        self.left = left\n",
    "        self.right = right\n",
    "\n",
    "def find_height(root):\n",
    "    if root is None:\n",
    "        return -1  # Return -1 for height of an empty tree\n",
    "    else:\n",
    "        left_height = find_height(root.left)\n",
    "        right_height = find_height(root.right)\n",
    "        return max(left_height, right_height) + 1\n",
    "\n",
    "# Example usage:\n",
    "# Constructing a simple binary tree\n",
    "#        1\n",
    "#       / \\\n",
    "#      2   3\n",
    "#     / \\\n",
    "#    4   5\n",
    "\n",
    "root = TreeNode(1)\n",
    "root.left = TreeNode(2)\n",
    "root.right = TreeNode(3)\n",
    "root.left.left = TreeNode(4)\n",
    "root.left.right = TreeNode(5)\n",
    "\n",
    "print(\"Height of the tree:\", find_height(root))"
   ]
  },
  {
   "cell_type": "code",
   "execution_count": null,
   "metadata": {},
   "outputs": [],
   "source": [
    "12: Implement a hash table (dictionary) to count the frequency of words in a given text file."
   ]
  },
  {
   "cell_type": "code",
   "execution_count": 109,
   "metadata": {},
   "outputs": [
    {
     "name": "stdout",
     "output_type": "stream",
     "text": [
      "this: 1\n",
      "is: 2\n",
      "the: 2\n",
      "text: 2\n",
      "file: 1\n",
      "being: 1\n",
      "tested: 1\n",
      "hope: 1\n",
      "number: 1\n",
      "of: 1\n",
      "counted: 1\n",
      "right: 1\n"
     ]
    }
   ],
   "source": [
    "def count_word_frequency(file_path):\n",
    "    word_count = {}\n",
    "    \n",
    "    with open(file_path, 'r') as file:\n",
    "        for line in file:\n",
    "            words = line.split()\n",
    "            for word in words:\n",
    "                word = word.lower().strip('.,!?\";:()[]{}')\n",
    "                if word in word_count:\n",
    "                    word_count[word] += 1\n",
    "                else:\n",
    "                    word_count[word] = 1\n",
    "    \n",
    "    return word_count\n",
    "\n",
    "# Example usage\n",
    "file_path = 'text_file.txt'\n",
    "word_frequencies = count_word_frequency(file_path)\n",
    "for word, count in word_frequencies.items():\n",
    "    print(f'{word}: {count}')\n"
   ]
  },
  {
   "cell_type": "code",
   "execution_count": null,
   "metadata": {},
   "outputs": [],
   "source": [
    "13: Design a LRU (Least Recently Used) cache using a combination of a doubly linked list and a dictionary."
   ]
  },
  {
   "cell_type": "code",
   "execution_count": 111,
   "metadata": {},
   "outputs": [
    {
     "name": "stdout",
     "output_type": "stream",
     "text": [
      "1\n",
      "-1\n",
      "-1\n",
      "3\n",
      "4\n"
     ]
    }
   ],
   "source": [
    "# https://www.geeksforgeeks.org/lru-cache-implementation-using-double-linked-lists/\n",
    "# Python program to implement LRU Least Recently Used)\n",
    "class Node:\n",
    "    def __init__(self, key, value):\n",
    "        self.key = key\n",
    "        self.value = value\n",
    "        self.prev = None\n",
    "        self.next = None\n",
    "\n",
    "\n",
    "class LRUCache:\n",
    "    def __init__(self, capacity: int):\n",
    "        self.capacity = capacity\n",
    "        self.cache = {}\n",
    "        self.head = Node(-1, -1)\n",
    "        self.tail = Node(-1, -1)\n",
    "        self.head.next = self.tail\n",
    "        self.tail.prev = self.head\n",
    "\n",
    "    def _add(self, node: Node):\n",
    "      \n",
    "        # Add a node right after the head\n",
    "        # (most recently used position).\n",
    "        next_node = self.head.next\n",
    "        self.head.next = node\n",
    "        node.prev = self.head\n",
    "        node.next = next_node\n",
    "        next_node.prev = node\n",
    "\n",
    "    def _remove(self, node: Node):\n",
    "      \n",
    "       # emove a node from the\n",
    "        # doubly linked list.\n",
    "        prev_node = node.prev\n",
    "        next_node = node.next\n",
    "        prev_node.next = next_node\n",
    "        next_node.prev = prev_node\n",
    "\n",
    "    def get(self, key: int) -> int:\n",
    "        # Get the value for a given key\n",
    "        if key not in self.cache:\n",
    "            return -1\n",
    "\n",
    "        node = self.cache[key]\n",
    "        self._remove(node)\n",
    "        self._add(node)\n",
    "        return node.value\n",
    "\n",
    "    def put(self, key: int, value: int):\n",
    "      \n",
    "        #Put a key-value pair into the cache.\n",
    "        if key in self.cache:\n",
    "            node = self.cache[key]\n",
    "            self._remove(node)\n",
    "            del self.cache[key]\n",
    "\n",
    "        if len(self.cache) >= self.capacity:\n",
    "          \n",
    "            # Remove the least recently used item\n",
    "            # (just before the tail)\n",
    "            lru_node = self.tail.prev\n",
    "            self._remove(lru_node)\n",
    "            del self.cache[lru_node.key]\n",
    "\n",
    "        # Add the new node\n",
    "        new_node = Node(key, value)\n",
    "        self._add(new_node)\n",
    "        self.cache[key] = new_node\n",
    "\n",
    "\n",
    "if __name__ == \"__main__\":\n",
    "    cache = LRUCache(2)\n",
    "\n",
    "    cache.put(1, 1)\n",
    "    cache.put(2, 2)\n",
    "    print(cache.get(1))\n",
    "    cache.put(3, 3)\n",
    "    print(cache.get(2))\n",
    "    cache.put(4, 4)\n",
    "    print(cache.get(1))\n",
    "    print(cache.get(3))\n",
    "    print(cache.get(4))"
   ]
  },
  {
   "cell_type": "markdown",
   "metadata": {},
   "source": [
    "14: Given two arrays, write a function to find the intersection of these arrays efficiently."
   ]
  },
  {
   "cell_type": "code",
   "execution_count": 119,
   "metadata": {},
   "outputs": [
    {
     "name": "stdout",
     "output_type": "stream",
     "text": [
      "[8, 9]\n"
     ]
    }
   ],
   "source": [
    "def intersection (array1, array2):\n",
    "    return list(set(array1) & set(array2))\n",
    "\n",
    "array1 = [1,2,3,4,5,6,8,9]\n",
    "array2 = [8,9,10,11,12]\n",
    "array \n",
    "print(intersection (array1, array2))\n"
   ]
  },
  {
   "cell_type": "markdown",
   "metadata": {},
   "source": [
    "15: Implement a stack using a list in Python. Include push, pop, peek and isEmpty operations.\n"
   ]
  },
  {
   "cell_type": "code",
   "execution_count": 121,
   "metadata": {},
   "outputs": [
    {
     "name": "stdout",
     "output_type": "stream",
     "text": [
      "Pushed 10 to stack\n",
      "Pushed 20 to stack\n",
      "Pushed 30 to stack\n",
      "Popped 30 from stack\n",
      "Popped 20 from stack\n",
      "Popped 10 from stack\n",
      "Stack is empty, cannot pop\n"
     ]
    }
   ],
   "source": [
    "# same as basic extra q1\n",
    "class Stack:\n",
    "    def __init__(self):\n",
    "        self.stack = []\n",
    "\n",
    "    def push(self, item):\n",
    "        self.stack.append(item)\n",
    "        print(f\"Pushed {item} to stack\")\n",
    "\n",
    "    def pop(self):\n",
    "        if not self.is_empty():\n",
    "            item = self.stack.pop()\n",
    "            print(f\"Popped {item} from stack\")\n",
    "            return item\n",
    "        else:\n",
    "            print(\"Stack is empty, cannot pop\")\n",
    "            return None\n",
    "\n",
    "    def is_empty(self):\n",
    "        return len(self.stack) == 0\n",
    "\n",
    "    def peek(self):\n",
    "        if not self.is_empty():\n",
    "            return self.stack[-1]\n",
    "        else:\n",
    "            print(\"Stack is empty, nothing to peek\")\n",
    "            return None\n",
    "\n",
    "    def size(self):\n",
    "        return len(self.stack)\n",
    "\n",
    "# Demonstration of push and pop operations\n",
    "stack = Stack()\n",
    "\n",
    "# Push operations\n",
    "stack.push(10)\n",
    "stack.push(20)\n",
    "stack.push(30)\n",
    "\n",
    "# Pop operations\n",
    "stack.pop()\n",
    "stack.pop()\n",
    "stack.pop()\n",
    "stack.pop()  # Attempt to pop from an empty stack\n"
   ]
  },
  {
   "cell_type": "code",
   "execution_count": null,
   "metadata": {},
   "outputs": [],
   "source": []
  }
 ],
 "metadata": {
  "colab": {
   "provenance": []
  },
  "kernelspec": {
   "display_name": "Python 3 (ipykernel)",
   "language": "python",
   "name": "python3"
  },
  "language_info": {
   "codemirror_mode": {
    "name": "ipython",
    "version": 3
   },
   "file_extension": ".py",
   "mimetype": "text/x-python",
   "name": "python",
   "nbconvert_exporter": "python",
   "pygments_lexer": "ipython3",
   "version": "3.12.7"
  }
 },
 "nbformat": 4,
 "nbformat_minor": 4
}
