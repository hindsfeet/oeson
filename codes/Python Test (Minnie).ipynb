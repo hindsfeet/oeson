{
 "cells": [
  {
   "cell_type": "markdown",
   "id": "52eddc58-4228-46f3-ab84-b0584d6a1d92",
   "metadata": {},
   "source": [
    "Minnie Cherry Tan\n",
    "1. If-Else Statement\n",
    "Write a function check_even_odd(num) that takes an integer as input and prints: \n",
    "o \"Even\" if the number is even. \n",
    "o \"Odd\" if the number is odd.\n"
   ]
  },
  {
   "cell_type": "code",
   "execution_count": 1,
   "id": "97106a08-d540-4231-95a1-89e2c138c8ab",
   "metadata": {},
   "outputs": [
    {
     "name": "stdout",
     "output_type": "stream",
     "text": [
      "4, the number is even\n",
      "1, the number is odd\n"
     ]
    }
   ],
   "source": [
    "def check_even_odd(num):\n",
    "    if num%2 == 0:\n",
    "        print(f'{num}, the number is even')\n",
    "    else:\n",
    "        print(f'{num}, the number is odd')\n",
    "\n",
    "check_even_odd(4)\n",
    "check_even_odd(1)"
   ]
  },
  {
   "cell_type": "code",
   "execution_count": null,
   "id": "42dab1c3-f329-4052-8e89-ad35a21a1e8d",
   "metadata": {},
   "outputs": [],
   "source": [
    "2. For Loop  \n",
    "Write a function sum_of_multiples(n) that calculates the sum of all multiples of 3 or 5 that are less \n",
    "than n. \n",
    "Example: \n",
    "o sum_of_multiples(10) should return 3 + 5 + 6 + 9 = 23"
   ]
  },
  {
   "cell_type": "code",
   "execution_count": 90,
   "id": "0e63a952-02f8-4763-be19-6417c8633084",
   "metadata": {},
   "outputs": [
    {
     "name": "stdout",
     "output_type": "stream",
     "text": [
      "23\n"
     ]
    }
   ],
   "source": [
    "def sum_of_multiples(n):\n",
    "    total_sum = 0\n",
    "    for i in range(n):\n",
    "        if i % 3 == 0 or i % 5 == 0:\n",
    "            total_sum += i\n",
    "    return total_sum\n",
    "\n",
    "# Example usage:\n",
    "print(sum_of_multiples(10))"
   ]
  },
  {
   "cell_type": "markdown",
   "id": "8bec0ebd-2abc-4206-a51e-8efcea2aeb22",
   "metadata": {},
   "source": [
    "3. While Loop  \n",
    "Write a function countdown(start) that prints the numbers starting from start down to 0, and then \n",
    "prints \"Liftoff!\"."
   ]
  },
  {
   "cell_type": "code",
   "execution_count": 11,
   "id": "59ee759c-2721-4687-b827-5f213c7311ef",
   "metadata": {},
   "outputs": [
    {
     "name": "stdout",
     "output_type": "stream",
     "text": [
      "5\n",
      "4\n",
      "3\n",
      "2\n",
      "1\n",
      "0\n",
      "Liftoff!\n"
     ]
    }
   ],
   "source": [
    "def countdown(start):\n",
    "    for i in range(start,-2,-1):\n",
    "        if (i >= 0):\n",
    "            print(i)\n",
    "        else:\n",
    "            print('Liftoff!')\n",
    "\n",
    "countdown(5)"
   ]
  },
  {
   "cell_type": "markdown",
   "id": "f2387509-05d4-44bd-81b8-6423e02f4ab8",
   "metadata": {},
   "source": [
    "Section 2: NumPy  \n",
    "1. Create an Array  \n",
    "Create a 1D NumPy array of numbers from 0 to 9 and print it. "
   ]
  },
  {
   "cell_type": "code",
   "execution_count": 13,
   "id": "49356bb2-16d1-4639-821c-6d8df3a86c2f",
   "metadata": {},
   "outputs": [
    {
     "name": "stdout",
     "output_type": "stream",
     "text": [
      "[0, 1, 2, 3, 4, 5, 6, 7, 8, 9]\n"
     ]
    }
   ],
   "source": [
    "array_1d = list(range(0,10))\n",
    "print(array_1d)"
   ]
  },
  {
   "cell_type": "markdown",
   "id": "f4fbf589-e19f-4ee6-9bf8-6119f90d6564",
   "metadata": {},
   "source": [
    "2. Array Operations  \n",
    "Given two NumPy arrays a = np.array([1, 2, 3, 4]) and b = np.array([10, 20, 30, 40]), perform the \n",
    "following operations: \n",
    "o Element-wise addition \n",
    "o Element-wise multiplication"
   ]
  },
  {
   "cell_type": "code",
   "execution_count": 28,
   "id": "a0251f5c-784b-46c1-8f12-e92c98354875",
   "metadata": {},
   "outputs": [
    {
     "name": "stdout",
     "output_type": "stream",
     "text": [
      "Element wise -> add: [11 22 33 44], mult: [ 10  40  90 160]\n",
      "[11 22 33 44]\n",
      "[ 10  40  90 160]\n"
     ]
    }
   ],
   "source": [
    "import numpy as np \n",
    "\n",
    "a = np.array([1, 2, 3, 4])\n",
    "b = np.array([10, 20, 30, 40])\n",
    "\n",
    "print(f'Element wise -> add: {a+b}, mult: {a*b}')  # Output: [5, 7, 9]"
   ]
  },
  {
   "cell_type": "markdown",
   "id": "bd5e9fa2-aa4e-4386-9243-cf172f5d9f02",
   "metadata": {},
   "source": [
    "3. Matrix Operations  \n",
    "Create two 3x3 matrices using NumPy and perform matrix multiplication between them."
   ]
  },
  {
   "cell_type": "code",
   "execution_count": 30,
   "id": "2d876240-d64e-4867-8766-2c2e4f689197",
   "metadata": {},
   "outputs": [
    {
     "name": "stdout",
     "output_type": "stream",
     "text": [
      "Result of matrix multiplication:\n",
      "[[ 30  24  18]\n",
      " [ 84  69  54]\n",
      " [138 114  90]]\n"
     ]
    }
   ],
   "source": [
    "matrix1 = np.array([[1, 2, 3],\n",
    "                    [4, 5, 6],\n",
    "                    [7, 8, 9]])\n",
    "\n",
    "matrix2 = np.array([[9, 8, 7],\n",
    "                    [6, 5, 4],\n",
    "                    [3, 2, 1]])\n",
    "\n",
    "# Perform matrix multiplication\n",
    "result = np.dot(matrix1, matrix2)\n",
    "\n",
    "print(\"Result of matrix multiplication:\")\n",
    "print(result)"
   ]
  },
  {
   "cell_type": "markdown",
   "id": "f6b6295d-9e9b-4745-b81f-e905a69ee994",
   "metadata": {},
   "source": [
    "Section 3: Pandas  \n",
    "1. Creating a DataFrame  \n",
    "Create a Pandas DataFrame with the following data: \n",
    "Name Age City \n",
    "Boyde 23 New York \n",
    "Barbie 25 Los Angeles \n",
    "Cyan 30 Chicago \n",
    "Write code to create the DataFrame and print it."
   ]
  },
  {
   "cell_type": "code",
   "execution_count": 32,
   "id": "aafa0d4c-b88f-4fc4-bda7-e578416b353e",
   "metadata": {},
   "outputs": [
    {
     "name": "stdout",
     "output_type": "stream",
     "text": [
      "     Name  Age         City\n",
      "0   Boyde   23     New York\n",
      "1  Barbie   25  Los Angeles\n",
      "2    Cyan   30      Chicago\n"
     ]
    }
   ],
   "source": [
    "import pandas as pd\n",
    "\n",
    "df = pd.DataFrame({'Name':['Boyde','Barbie','Cyan'],'Age':[23,25,30],'City':['New York','Los Angeles','Chicago']})\n",
    "print(df)"
   ]
  },
  {
   "cell_type": "markdown",
   "id": "8111e7f1-e85b-43dc-908a-4f167dd17cbc",
   "metadata": {},
   "source": [
    "2. DataFrame Operations  \n",
    "Using the DataFrame you created: \n",
    "o Add a new column called Salary with values [50000, 60000, 70000] \n",
    "o Filter the rows where Age > 24"
   ]
  },
  {
   "cell_type": "code",
   "execution_count": 52,
   "id": "904b33c6-b395-4107-9dec-aa33eebd1268",
   "metadata": {},
   "outputs": [
    {
     "name": "stdout",
     "output_type": "stream",
     "text": [
      "     Name  Age         City  Salary\n",
      "0   Boyde   23     New York   50000\n",
      "1  Barbie   25  Los Angeles   60000\n",
      "2    Cyan   30      Chicago   70000\n",
      "filtered: \n",
      "     Name  Age         City  Salary\n",
      "1  Barbie   25  Los Angeles   60000\n",
      "2    Cyan   30      Chicago   70000\n"
     ]
    }
   ],
   "source": [
    "salary = [50000, 60000, 70000]\n",
    "\n",
    "df['Salary'] = salary\n",
    "print(df)\n",
    "\n",
    "filtered_df = df[df['Age'] > 24]\n",
    "print(f'filtered: \\n{filtered_df}')"
   ]
  },
  {
   "cell_type": "code",
   "execution_count": null,
   "id": "b0ea3e34-9cbd-409a-929d-9ea2dca0e0e5",
   "metadata": {},
   "outputs": [],
   "source": [
    "Section 4: Visualization  \n",
    "1. Line Plot  \n",
    "Using Matplotlib, plot a simple line graph for the function y = x^2 where x ranges from 0 to 10."
   ]
  },
  {
   "cell_type": "code",
   "execution_count": 64,
   "id": "92b1a053-5f7e-4e60-8c44-5954903cd742",
   "metadata": {},
   "outputs": [
    {
     "data": {
      "image/png": "[encoded data removed]",
      "text/plain": [
       "<Figure size 640x480 with 1 Axes>"
      ]
     },
     "metadata": {},
     "output_type": "display_data"
    }
   ],
   "source": [
    "import matplotlib.pyplot as plt\n",
    "import numpy as np\n",
    "\n",
    "# Define the range for x\n",
    "x = np.linspace(0, 10, 100)\n",
    "\n",
    "# Define the function y = x^2\n",
    "y = x**2\n",
    "\n",
    "# Create the plot\n",
    "plt.plot(x, y, label='y = x^2')\n",
    "\n",
    "# Add title and labels\n",
    "plt.title('Plot of y = x^2')\n",
    "plt.xlabel('x')\n",
    "plt.ylabel('y')\n",
    "\n",
    "# Add a legend\n",
    "plt.legend()\n",
    "\n",
    "# Show the plot\n",
    "plt.show()\n"
   ]
  },
  {
   "cell_type": "code",
   "execution_count": null,
   "id": "c6ff8e9c-46b2-48d2-93be-1d16d487b40e",
   "metadata": {},
   "outputs": [],
   "source": [
    "2. Bar Plot  \n",
    "Plot a bar chart to show the frequency of the following data: ['apple', 'banana', 'apple', 'orange','banana', 'apple']. "
   ]
  },
  {
   "cell_type": "code",
   "execution_count": 84,
   "id": "af51f707-e79b-47bf-965c-2b5d22734846",
   "metadata": {},
   "outputs": [
    {
     "name": "stdout",
     "output_type": "stream",
     "text": [
      "['apple', 'banana', 'apple', 'orange', 'banana', 'apple']\n",
      "   fruits\n",
      "0   apple\n",
      "1  banana\n",
      "2   apple\n",
      "3  orange\n",
      "4  banana\n",
      "5   apple\n",
      "fruits\n",
      "apple     3\n",
      "banana    2\n",
      "orange    1\n",
      "Name: count, dtype: int64\n"
     ]
    },
    {
     "data": {
      "text/plain": [
       "<Axes: title={'center': '# of Fruits Count'}, xlabel='fruits'>"
      ]
     },
     "execution_count": 84,
     "metadata": {},
     "output_type": "execute_result"
    },
    {
     "data": {
      "image/png": "[encoded data removed]",
      "text/plain": [
       "<Figure size 640x480 with 1 Axes>"
      ]
     },
     "metadata": {},
     "output_type": "display_data"
    }
   ],
   "source": [
    "import pandas as pd \n",
    "\n",
    "data = ['apple', 'banana', 'apple', 'orange', 'banana', 'apple']\n",
    "print(data)\n",
    "\n",
    "df = pd.DataFrame({'fruits': data})\n",
    "print(df)\n",
    "\n",
    "# Creating a Frequency Bar Chart of Correct Answers:\n",
    "freq = df.value_counts().sort_index()\n",
    "print(freq)\n",
    "freq.plot.bar(title=\"# of Fruits Count\")"
   ]
  },
  {
   "cell_type": "markdown",
   "id": "1f457f3b-0fd7-47a2-bace-f05ce8e86e2b",
   "metadata": {},
   "source": [
    "3. Scatter Plot  Generate random data for two variables x and y  and plot a scatter plot using Matplotlib. "
   ]
  },
  {
   "cell_type": "code",
   "execution_count": 86,
   "id": "325661f9-7458-48d0-aabf-6d258794abfe",
   "metadata": {},
   "outputs": [
    {
     "data": {
      "image/png": "[encoded data removed]",
      "text/plain": [
       "<Figure size 640x480 with 1 Axes>"
      ]
     },
     "metadata": {},
     "output_type": "display_data"
    }
   ],
   "source": [
    "import matplotlib.pyplot as plt\n",
    "import numpy as np\n",
    "\n",
    "# Generate random data\n",
    "np.random.seed(0)  # For reproducibility\n",
    "x = np.random.rand(100)\n",
    "y = np.random.rand(100)\n",
    "\n",
    "# Create scatter plot\n",
    "plt.scatter(x, y, color='blue')\n",
    "plt.title('Scatter Plot of Random Data')\n",
    "plt.xlabel('Variable X')\n",
    "plt.ylabel('Variable Y')\n",
    "plt.show()"
   ]
  },
  {
   "cell_type": "code",
   "execution_count": null,
   "id": "5cc2eb36-bc16-4d46-8548-5745131333d2",
   "metadata": {},
   "outputs": [],
   "source": []
  }
 ],
 "metadata": {
  "kernelspec": {
   "display_name": "Python 3 (ipykernel)",
   "language": "python",
   "name": "python3"
  },
  "language_info": {
   "codemirror_mode": {
    "name": "ipython",
    "version": 3
   },
   "file_extension": ".py",
   "mimetype": "text/x-python",
   "name": "python",
   "nbconvert_exporter": "python",
   "pygments_lexer": "ipython3",
   "version": "3.12.7"
  }
 },
 "nbformat": 4,
 "nbformat_minor": 5
}
