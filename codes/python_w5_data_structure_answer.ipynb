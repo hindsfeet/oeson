{
 "cells": [
  {
   "cell_type": "markdown",
   "id": "ced0133d-8f7d-4ed9-bc0e-9e2d20fe6254",
   "metadata": {},
   "source": [
    "List"
   ]
  },
  {
   "cell_type": "markdown",
   "id": "2334cebe-eee3-4015-9ebd-6142ec12e567",
   "metadata": {},
   "source": [
    "Question - Appending and Removing Elements: Create an empty list called my_list. Append\n",
    " the numbers 1, 2, and 3 to my_list. Then remove the number 2 from the list."
   ]
  },
  {
   "cell_type": "code",
   "execution_count": 102,
   "id": "1fd8be6c-b132-4199-a19c-1f4ee6bff554",
   "metadata": {},
   "outputs": [
    {
     "data": {
      "text/plain": [
       "[1, 3]"
      ]
     },
     "execution_count": 102,
     "metadata": {},
     "output_type": "execute_result"
    }
   ],
   "source": [
    "my_list = [1,2,3]\n",
    "my_list.remove(2)\n",
    "my_list"
   ]
  },
  {
   "cell_type": "markdown",
   "id": "9401deb9-6afb-4616-bed3-18507392f05a",
   "metadata": {},
   "source": [
    " Question- Accessing Elements: Create a list called fruits containing the strings \"apple\",\n",
    " \"banana\", \"cherry\", \"date\". Print the second element of the list"
   ]
  },
  {
   "cell_type": "code",
   "execution_count": 104,
   "id": "d105f63e-4da2-4c44-85e0-06b70faf7254",
   "metadata": {},
   "outputs": [
    {
     "data": {
      "text/plain": [
       "'banana'"
      ]
     },
     "execution_count": 104,
     "metadata": {},
     "output_type": "execute_result"
    }
   ],
   "source": [
    "my_list = [ \"apple\",\"banana\", \"cherry\", \"date\"]\n",
    "my_list[1]"
   ]
  },
  {
   "cell_type": "markdown",
   "id": "a0a64166-fe16-4557-9b4c-74f1c752ed50",
   "metadata": {},
   "source": [
    " Question- Slicing: Create a list called numbers containing the numbers from 1 to 10. Print a\n",
    " slice of the list containing elements from the third element to the sixth element"
   ]
  },
  {
   "cell_type": "code",
   "execution_count": 106,
   "id": "50a72706-0dd7-4222-87dc-15ae6ea9c950",
   "metadata": {},
   "outputs": [
    {
     "data": {
      "text/plain": [
       "[3, 4, 5, 6]"
      ]
     },
     "execution_count": 106,
     "metadata": {},
     "output_type": "execute_result"
    }
   ],
   "source": [
    "my_list = list(range(1,11))\n",
    "my_list[2:6]"
   ]
  },
  {
   "cell_type": "markdown",
   "id": "cf75cb87-95c8-4da3-a2ac-92ce9b12e172",
   "metadata": {},
   "source": [
    "Sets\n",
    " Question - Adding and Removing Elements: Create an empty set called my_set. Add the\n",
    " numbers 1, 2, and 3 to my_set. Then remove the number 2 from the set"
   ]
  },
  {
   "cell_type": "code",
   "execution_count": 108,
   "id": "bfb192da-41a7-459b-8f27-a431fd744b41",
   "metadata": {},
   "outputs": [
    {
     "data": {
      "text/plain": [
       "{1, 2, 3}"
      ]
     },
     "execution_count": 108,
     "metadata": {},
     "output_type": "execute_result"
    }
   ],
   "source": [
    "my_set = set(range(1,4))\n",
    "my_set"
   ]
  },
  {
   "cell_type": "code",
   "execution_count": 109,
   "id": "3bed4e7c-294b-4d85-a630-ef4a251491f2",
   "metadata": {},
   "outputs": [],
   "source": [
    "my_set.remove(2)"
   ]
  },
  {
   "cell_type": "code",
   "execution_count": 110,
   "id": "4875a396-9be7-4fbf-882a-e4b4866b6df5",
   "metadata": {},
   "outputs": [
    {
     "data": {
      "text/plain": [
       "{1, 3}"
      ]
     },
     "execution_count": 110,
     "metadata": {},
     "output_type": "execute_result"
    }
   ],
   "source": [
    "my_set"
   ]
  },
  {
   "cell_type": "markdown",
   "id": "556e9972-6f06-42ea-9fb9-e85f6389e630",
   "metadata": {},
   "source": [
    " Question - Operations: Create two sets called set1 and set2, each containing a few\n",
    " numbers. Print the union, intersection, and difference of the two sets"
   ]
  },
  {
   "cell_type": "code",
   "execution_count": 112,
   "id": "bc9cac9e-ad78-4e49-af03-025c2580d2fd",
   "metadata": {},
   "outputs": [],
   "source": [
    "set1 = {1,3,54,2,7,8,6}\n",
    "set2 = {6,7,8,43,7,4,543}"
   ]
  },
  {
   "cell_type": "code",
   "execution_count": 113,
   "id": "f9800fa1-c66c-48df-9ad8-9167273f3757",
   "metadata": {},
   "outputs": [
    {
     "name": "stdout",
     "output_type": "stream",
     "text": [
      "union {1, 2, 3, 4, 6, 7, 8, 43, 54, 543}\n",
      "intersection {8, 6, 7}\n",
      "difference {1, 2, 3, 54}\n"
     ]
    }
   ],
   "source": [
    "print(f'union {set1 | set2}')\n",
    "print(f'intersection {set1 & set2}')\n",
    "print(f'difference {set1 - set2}')"
   ]
  },
  {
   "cell_type": "markdown",
   "id": "8477523c-50b1-4e9a-969f-042248c45180",
   "metadata": {},
   "source": [
    " Tuples\n",
    " Question - Accessing Elements: Create a tuple called coordinates containing the latitude\n",
    " and longitude of a location (e.g., (40.7128, -74.0060) for New York City). Print the latitude\n",
    " and longitude separately"
   ]
  },
  {
   "cell_type": "code",
   "execution_count": 115,
   "id": "d12b7fc1-6c7e-4212-b256-f73396626cc6",
   "metadata": {},
   "outputs": [
    {
     "name": "stdout",
     "output_type": "stream",
     "text": [
      "longtitude: 40.7128\n",
      "latitude: -74.006\n",
      "longtitude: 40.7128\n",
      "latitude: -74.006\n"
     ]
    }
   ],
   "source": [
    "location = (40.7128, -74.0060)\n",
    "print(f'longtitude: {location[0]}\\nlatitude: {location[1]}')\n",
    "list_of_tuples = [('longtitude', 40.7128), ('latitude', -74.0060), ('city', 'New York')]\n",
    "my_dict = dict(list_of_tuples)\n",
    "print(f'longtitude: {my_dict[\"longtitude\"]}')\n",
    "print(f'latitude: {my_dict[\"latitude\"]}')"
   ]
  },
  {
   "cell_type": "markdown",
   "id": "c734d312-7eee-4249-9970-8f872bc7bf00",
   "metadata": {},
   "source": [
    " Question - Packing and Unpacking: Create a tuple called person containing information\n",
    " about a person, such as their name, age, and city. Then unpack the tuple into individual\n",
    " variables."
   ]
  },
  {
   "cell_type": "code",
   "execution_count": 117,
   "id": "21d9c49d-a92d-4b9c-ac71-0e0270ca466f",
   "metadata": {},
   "outputs": [
    {
     "name": "stdout",
     "output_type": "stream",
     "text": [
      "name: Cherry\n",
      "age: 47\n",
      "city: Auckland City\n",
      "---------------------\n",
      "name: Cherry\n",
      "age: 47\n",
      "city: Auckland City\n"
     ]
    }
   ],
   "source": [
    "person = ('Cherry',47,'Auckland City')\n",
    "name = person[0]\n",
    "age = person[1]\n",
    "city = person[2]\n",
    "print(f'name: {name}')\n",
    "print(f'age: {age}')\n",
    "print(f'city: {city}')\n",
    "print('---------------------')\n",
    "list_of_tuples = [('name', 'Cherry'), ('age', 47), ('city', 'Auckland City')]\n",
    "my_dict = dict(list_of_tuples)\n",
    "name = my_dict['name']\n",
    "age = my_dict['age']\n",
    "city = my_dict['city']\n",
    "print(f'name: {name}')\n",
    "print(f'age: {age}')\n",
    "print(f'city: {city}')"
   ]
  },
  {
   "cell_type": "code",
   "execution_count": null,
   "id": "af9d1e5c-fc22-4dae-99fd-74650cf7340f",
   "metadata": {},
   "outputs": [],
   "source": []
  }
 ],
 "metadata": {
  "kernelspec": {
   "display_name": "Python 3 (ipykernel)",
   "language": "python",
   "name": "python3"
  },
  "language_info": {
   "codemirror_mode": {
    "name": "ipython",
    "version": 3
   },
   "file_extension": ".py",
   "mimetype": "text/x-python",
   "name": "python",
   "nbconvert_exporter": "python",
   "pygments_lexer": "ipython3",
   "version": "3.12.7"
  }
 },
 "nbformat": 4,
 "nbformat_minor": 5
}
